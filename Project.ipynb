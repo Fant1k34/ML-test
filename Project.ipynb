{
 "cells": [
  {
   "cell_type": "code",
   "execution_count": 150,
   "id": "behind-spoke",
   "metadata": {},
   "outputs": [],
   "source": [
    "import pandas as pd\n",
    "import numpy as np\n",
    "from matplotlib import pyplot as plt\n",
    "%matplotlib inline"
   ]
  },
  {
   "cell_type": "code",
   "execution_count": 151,
   "id": "accepted-middle",
   "metadata": {},
   "outputs": [],
   "source": [
    "data = pd.read_csv(\"predict.csv\")\n",
    "# Считываем данные"
   ]
  },
  {
   "cell_type": "code",
   "execution_count": 152,
   "id": "french-manufacturer",
   "metadata": {},
   "outputs": [
    {
     "name": "stdout",
     "output_type": "stream",
     "text": [
      "Количество уникальных элеменов в authors_mean_pagerank - 1\n",
      "Количество уникальных элеменов в authors_mean_productivity - 1\n",
      "Количество уникальных элеменов в journal_pagerank - 1\n"
     ]
    }
   ],
   "source": [
    "data = data.fillna(0)\n",
    "print(\"Количество уникальных элеменов в authors_mean_pagerank - {}\".format(len(set(data[\"authors_mean_pagerank\"].tolist()))))\n",
    "print(\"Количество уникальных элеменов в authors_mean_productivity - {}\".format(len(set(data[\"authors_mean_productivity\"].tolist()))))\n",
    "print(\"Количество уникальных элеменов в journal_pagerank - {}\".format(len(set(data[\"journal_pagerank\"].tolist()))))"
   ]
  },
  {
   "cell_type": "code",
   "execution_count": 153,
   "id": "incorrect-columbia",
   "metadata": {},
   "outputs": [],
   "source": [
    "# Получается, что столбцы authors_mean_pagerank, authors_mean_productivity и journal_pagerank содержали нули"
   ]
  },
  {
   "cell_type": "code",
   "execution_count": 154,
   "id": "bacterial-capacity",
   "metadata": {},
   "outputs": [],
   "source": [
    "data = data.drop([\"authors_mean_pagerank\", \"authors_mean_productivity\", \"journal_pagerank\"], axis=1)"
   ]
  },
  {
   "cell_type": "code",
   "execution_count": 155,
   "id": "personalized-novel",
   "metadata": {},
   "outputs": [],
   "source": [
    "# Для удобства поменяем c5 (и назовём y) - наш таргетный столбец, который мы хотим предсказывать с log_authors_mean_sociality\n",
    "data[\"y\"] = data[\"c5\"]\n",
    "data = data.drop(\"c5\", axis = 1)"
   ]
  },
  {
   "cell_type": "code",
   "execution_count": 156,
   "id": "psychological-ceremony",
   "metadata": {},
   "outputs": [
    {
     "data": {
      "text/html": [
       "<div>\n",
       "<style scoped>\n",
       "    .dataframe tbody tr th:only-of-type {\n",
       "        vertical-align: middle;\n",
       "    }\n",
       "\n",
       "    .dataframe tbody tr th {\n",
       "        vertical-align: top;\n",
       "    }\n",
       "\n",
       "    .dataframe thead th {\n",
       "        text-align: right;\n",
       "    }\n",
       "</style>\n",
       "<table border=\"1\" class=\"dataframe\">\n",
       "  <thead>\n",
       "    <tr style=\"text-align: right;\">\n",
       "      <th></th>\n",
       "      <th>recency</th>\n",
       "      <th>topic_rank</th>\n",
       "      <th>diversity</th>\n",
       "      <th>authors_mean_rank</th>\n",
       "      <th>authors_mean_hindex</th>\n",
       "      <th>authors_mean_gindex</th>\n",
       "      <th>authors_mean_sociality</th>\n",
       "      <th>journal_rank</th>\n",
       "      <th>title_len</th>\n",
       "      <th>abstract_len</th>\n",
       "      <th>n_authors</th>\n",
       "      <th>log_authors_mean_sociality</th>\n",
       "      <th>y</th>\n",
       "    </tr>\n",
       "  </thead>\n",
       "  <tbody>\n",
       "    <tr>\n",
       "      <th>0</th>\n",
       "      <td>16</td>\n",
       "      <td>1.0</td>\n",
       "      <td>-0.425436</td>\n",
       "      <td>500.0</td>\n",
       "      <td>1.0</td>\n",
       "      <td>1.0</td>\n",
       "      <td>6.0</td>\n",
       "      <td>101.0</td>\n",
       "      <td>66</td>\n",
       "      <td>1653</td>\n",
       "      <td>7</td>\n",
       "      <td>1.945910</td>\n",
       "      <td>1.0</td>\n",
       "    </tr>\n",
       "    <tr>\n",
       "      <th>1</th>\n",
       "      <td>8</td>\n",
       "      <td>7.0</td>\n",
       "      <td>-0.571967</td>\n",
       "      <td>134.0</td>\n",
       "      <td>1.0</td>\n",
       "      <td>1.0</td>\n",
       "      <td>6.0</td>\n",
       "      <td>24.0</td>\n",
       "      <td>59</td>\n",
       "      <td>1527</td>\n",
       "      <td>7</td>\n",
       "      <td>1.945910</td>\n",
       "      <td>32.0</td>\n",
       "    </tr>\n",
       "    <tr>\n",
       "      <th>2</th>\n",
       "      <td>15</td>\n",
       "      <td>19.0</td>\n",
       "      <td>-0.859644</td>\n",
       "      <td>235.0</td>\n",
       "      <td>1.0</td>\n",
       "      <td>1.0</td>\n",
       "      <td>5.0</td>\n",
       "      <td>49.0</td>\n",
       "      <td>169</td>\n",
       "      <td>1554</td>\n",
       "      <td>6</td>\n",
       "      <td>1.791759</td>\n",
       "      <td>5.0</td>\n",
       "    </tr>\n",
       "    <tr>\n",
       "      <th>3</th>\n",
       "      <td>6</td>\n",
       "      <td>4.0</td>\n",
       "      <td>-1.054999</td>\n",
       "      <td>1124.0</td>\n",
       "      <td>1.0</td>\n",
       "      <td>1.0</td>\n",
       "      <td>10.0</td>\n",
       "      <td>185.0</td>\n",
       "      <td>130</td>\n",
       "      <td>2121</td>\n",
       "      <td>11</td>\n",
       "      <td>2.397895</td>\n",
       "      <td>7.0</td>\n",
       "    </tr>\n",
       "    <tr>\n",
       "      <th>4</th>\n",
       "      <td>14</td>\n",
       "      <td>2.0</td>\n",
       "      <td>-0.476697</td>\n",
       "      <td>346.0</td>\n",
       "      <td>1.0</td>\n",
       "      <td>1.0</td>\n",
       "      <td>2.0</td>\n",
       "      <td>72.0</td>\n",
       "      <td>100</td>\n",
       "      <td>432</td>\n",
       "      <td>3</td>\n",
       "      <td>1.098612</td>\n",
       "      <td>7.0</td>\n",
       "    </tr>\n",
       "    <tr>\n",
       "      <th>...</th>\n",
       "      <td>...</td>\n",
       "      <td>...</td>\n",
       "      <td>...</td>\n",
       "      <td>...</td>\n",
       "      <td>...</td>\n",
       "      <td>...</td>\n",
       "      <td>...</td>\n",
       "      <td>...</td>\n",
       "      <td>...</td>\n",
       "      <td>...</td>\n",
       "      <td>...</td>\n",
       "      <td>...</td>\n",
       "      <td>...</td>\n",
       "    </tr>\n",
       "    <tr>\n",
       "      <th>474</th>\n",
       "      <td>25</td>\n",
       "      <td>6.0</td>\n",
       "      <td>-0.330948</td>\n",
       "      <td>528.0</td>\n",
       "      <td>0.0</td>\n",
       "      <td>0.0</td>\n",
       "      <td>6.0</td>\n",
       "      <td>140.0</td>\n",
       "      <td>62</td>\n",
       "      <td>645</td>\n",
       "      <td>7</td>\n",
       "      <td>1.945910</td>\n",
       "      <td>0.0</td>\n",
       "    </tr>\n",
       "    <tr>\n",
       "      <th>475</th>\n",
       "      <td>6</td>\n",
       "      <td>12.0</td>\n",
       "      <td>-1.493480</td>\n",
       "      <td>2145.0</td>\n",
       "      <td>0.0</td>\n",
       "      <td>0.0</td>\n",
       "      <td>1.0</td>\n",
       "      <td>416.0</td>\n",
       "      <td>45</td>\n",
       "      <td>714</td>\n",
       "      <td>2</td>\n",
       "      <td>0.693147</td>\n",
       "      <td>0.0</td>\n",
       "    </tr>\n",
       "    <tr>\n",
       "      <th>476</th>\n",
       "      <td>24</td>\n",
       "      <td>17.0</td>\n",
       "      <td>-1.466320</td>\n",
       "      <td>551.0</td>\n",
       "      <td>0.0</td>\n",
       "      <td>0.0</td>\n",
       "      <td>4.0</td>\n",
       "      <td>146.0</td>\n",
       "      <td>84</td>\n",
       "      <td>0</td>\n",
       "      <td>5</td>\n",
       "      <td>1.609438</td>\n",
       "      <td>0.0</td>\n",
       "    </tr>\n",
       "    <tr>\n",
       "      <th>477</th>\n",
       "      <td>24</td>\n",
       "      <td>6.0</td>\n",
       "      <td>-1.556737</td>\n",
       "      <td>551.0</td>\n",
       "      <td>0.0</td>\n",
       "      <td>0.0</td>\n",
       "      <td>0.0</td>\n",
       "      <td>146.0</td>\n",
       "      <td>56</td>\n",
       "      <td>0</td>\n",
       "      <td>1</td>\n",
       "      <td>0.000000</td>\n",
       "      <td>0.0</td>\n",
       "    </tr>\n",
       "    <tr>\n",
       "      <th>478</th>\n",
       "      <td>23</td>\n",
       "      <td>9.0</td>\n",
       "      <td>-0.283168</td>\n",
       "      <td>602.0</td>\n",
       "      <td>0.0</td>\n",
       "      <td>0.0</td>\n",
       "      <td>0.0</td>\n",
       "      <td>155.0</td>\n",
       "      <td>90</td>\n",
       "      <td>476</td>\n",
       "      <td>1</td>\n",
       "      <td>0.000000</td>\n",
       "      <td>0.0</td>\n",
       "    </tr>\n",
       "  </tbody>\n",
       "</table>\n",
       "<p>479 rows × 13 columns</p>\n",
       "</div>"
      ],
      "text/plain": [
       "     recency  topic_rank  diversity  authors_mean_rank  authors_mean_hindex  \\\n",
       "0         16         1.0  -0.425436              500.0                  1.0   \n",
       "1          8         7.0  -0.571967              134.0                  1.0   \n",
       "2         15        19.0  -0.859644              235.0                  1.0   \n",
       "3          6         4.0  -1.054999             1124.0                  1.0   \n",
       "4         14         2.0  -0.476697              346.0                  1.0   \n",
       "..       ...         ...        ...                ...                  ...   \n",
       "474       25         6.0  -0.330948              528.0                  0.0   \n",
       "475        6        12.0  -1.493480             2145.0                  0.0   \n",
       "476       24        17.0  -1.466320              551.0                  0.0   \n",
       "477       24         6.0  -1.556737              551.0                  0.0   \n",
       "478       23         9.0  -0.283168              602.0                  0.0   \n",
       "\n",
       "     authors_mean_gindex  authors_mean_sociality  journal_rank  title_len  \\\n",
       "0                    1.0                     6.0         101.0         66   \n",
       "1                    1.0                     6.0          24.0         59   \n",
       "2                    1.0                     5.0          49.0        169   \n",
       "3                    1.0                    10.0         185.0        130   \n",
       "4                    1.0                     2.0          72.0        100   \n",
       "..                   ...                     ...           ...        ...   \n",
       "474                  0.0                     6.0         140.0         62   \n",
       "475                  0.0                     1.0         416.0         45   \n",
       "476                  0.0                     4.0         146.0         84   \n",
       "477                  0.0                     0.0         146.0         56   \n",
       "478                  0.0                     0.0         155.0         90   \n",
       "\n",
       "     abstract_len  n_authors  log_authors_mean_sociality     y  \n",
       "0            1653          7                    1.945910   1.0  \n",
       "1            1527          7                    1.945910  32.0  \n",
       "2            1554          6                    1.791759   5.0  \n",
       "3            2121         11                    2.397895   7.0  \n",
       "4             432          3                    1.098612   7.0  \n",
       "..            ...        ...                         ...   ...  \n",
       "474           645          7                    1.945910   0.0  \n",
       "475           714          2                    0.693147   0.0  \n",
       "476             0          5                    1.609438   0.0  \n",
       "477             0          1                    0.000000   0.0  \n",
       "478           476          1                    0.000000   0.0  \n",
       "\n",
       "[479 rows x 13 columns]"
      ]
     },
     "execution_count": 156,
     "metadata": {},
     "output_type": "execute_result"
    }
   ],
   "source": [
    "data"
   ]
  },
  {
   "cell_type": "code",
   "execution_count": 157,
   "id": "boolean-implement",
   "metadata": {},
   "outputs": [],
   "source": [
    "X = data.iloc[:, :-1] # Разбиваем данные на X и y\n",
    "y = data.iloc[:, -1]"
   ]
  },
  {
   "cell_type": "code",
   "execution_count": 158,
   "id": "rolled-stability",
   "metadata": {},
   "outputs": [],
   "source": [
    "from sklearn.model_selection import train_test_split # Разбиваем выборку на X_train и X_test - для первичного анализа\n",
    "X_train, X_test, y_train, y_test = train_test_split(X, y, test_size=0.2, random_state=42)"
   ]
  },
  {
   "cell_type": "code",
   "execution_count": null,
   "id": "loose-specific",
   "metadata": {},
   "outputs": [],
   "source": []
  },
  {
   "cell_type": "code",
   "execution_count": null,
   "id": "chubby-abortion",
   "metadata": {},
   "outputs": [],
   "source": []
  },
  {
   "cell_type": "code",
   "execution_count": 159,
   "id": "statistical-andorra",
   "metadata": {},
   "outputs": [
    {
     "data": {
      "text/plain": [
       "Lasso(alpha=0.1)"
      ]
     },
     "execution_count": 159,
     "metadata": {},
     "output_type": "execute_result"
    }
   ],
   "source": [
    "from sklearn import linear_model # Узнаем, какие признаки можно отобрать\n",
    "clf = linear_model.Lasso(alpha=0.1) # L1-регуляризация отвечает за отбор признаков, так как наказывает модель за большие веса\n",
    "clf.fit(X_train, y_train)"
   ]
  },
  {
   "cell_type": "code",
   "execution_count": 160,
   "id": "broadband-assessment",
   "metadata": {},
   "outputs": [],
   "source": [
    "from sklearn.metrics import r2_score\n",
    "y_pred = clf.predict(X_test)"
   ]
  },
  {
   "cell_type": "code",
   "execution_count": 161,
   "id": "dental-moscow",
   "metadata": {},
   "outputs": [
    {
     "data": {
      "text/plain": [
       "0.331776624561264"
      ]
     },
     "execution_count": 161,
     "metadata": {},
     "output_type": "execute_result"
    }
   ],
   "source": [
    "r2_score(y_test, y_pred) # r2_score не удолетворительная, поэтому думаем над улучшениями"
   ]
  },
  {
   "cell_type": "code",
   "execution_count": 162,
   "id": "known-check",
   "metadata": {},
   "outputs": [
    {
     "data": {
      "text/plain": [
       "array([-1.44371216e+00,  3.79897458e-02, -5.22729146e-01, -1.50830012e-02,\n",
       "       -3.54597930e+00, -0.00000000e+00,  1.38219015e-01, -1.28515488e-02,\n",
       "       -1.59125576e-02,  3.15699938e-04,  0.00000000e+00, -0.00000000e+00])"
      ]
     },
     "execution_count": 162,
     "metadata": {},
     "output_type": "execute_result"
    }
   ],
   "source": [
    "clf.coef_ # Убираем признаки, которые обнулились"
   ]
  },
  {
   "cell_type": "code",
   "execution_count": 163,
   "id": "suited-bidding",
   "metadata": {},
   "outputs": [],
   "source": [
    "data = data.drop(data.columns[[5, 9, 10, 11]], axis = 1) # Удаляем ненужные столбцы"
   ]
  },
  {
   "cell_type": "code",
   "execution_count": 164,
   "id": "residential-welsh",
   "metadata": {},
   "outputs": [
    {
     "data": {
      "text/html": [
       "<div>\n",
       "<style scoped>\n",
       "    .dataframe tbody tr th:only-of-type {\n",
       "        vertical-align: middle;\n",
       "    }\n",
       "\n",
       "    .dataframe tbody tr th {\n",
       "        vertical-align: top;\n",
       "    }\n",
       "\n",
       "    .dataframe thead th {\n",
       "        text-align: right;\n",
       "    }\n",
       "</style>\n",
       "<table border=\"1\" class=\"dataframe\">\n",
       "  <thead>\n",
       "    <tr style=\"text-align: right;\">\n",
       "      <th></th>\n",
       "      <th>recency</th>\n",
       "      <th>topic_rank</th>\n",
       "      <th>diversity</th>\n",
       "      <th>authors_mean_rank</th>\n",
       "      <th>authors_mean_hindex</th>\n",
       "      <th>authors_mean_sociality</th>\n",
       "      <th>journal_rank</th>\n",
       "      <th>title_len</th>\n",
       "      <th>y</th>\n",
       "    </tr>\n",
       "  </thead>\n",
       "  <tbody>\n",
       "    <tr>\n",
       "      <th>0</th>\n",
       "      <td>16</td>\n",
       "      <td>1.0</td>\n",
       "      <td>-0.425436</td>\n",
       "      <td>500.0</td>\n",
       "      <td>1.0</td>\n",
       "      <td>6.0</td>\n",
       "      <td>101.0</td>\n",
       "      <td>66</td>\n",
       "      <td>1.0</td>\n",
       "    </tr>\n",
       "    <tr>\n",
       "      <th>1</th>\n",
       "      <td>8</td>\n",
       "      <td>7.0</td>\n",
       "      <td>-0.571967</td>\n",
       "      <td>134.0</td>\n",
       "      <td>1.0</td>\n",
       "      <td>6.0</td>\n",
       "      <td>24.0</td>\n",
       "      <td>59</td>\n",
       "      <td>32.0</td>\n",
       "    </tr>\n",
       "    <tr>\n",
       "      <th>2</th>\n",
       "      <td>15</td>\n",
       "      <td>19.0</td>\n",
       "      <td>-0.859644</td>\n",
       "      <td>235.0</td>\n",
       "      <td>1.0</td>\n",
       "      <td>5.0</td>\n",
       "      <td>49.0</td>\n",
       "      <td>169</td>\n",
       "      <td>5.0</td>\n",
       "    </tr>\n",
       "    <tr>\n",
       "      <th>3</th>\n",
       "      <td>6</td>\n",
       "      <td>4.0</td>\n",
       "      <td>-1.054999</td>\n",
       "      <td>1124.0</td>\n",
       "      <td>1.0</td>\n",
       "      <td>10.0</td>\n",
       "      <td>185.0</td>\n",
       "      <td>130</td>\n",
       "      <td>7.0</td>\n",
       "    </tr>\n",
       "    <tr>\n",
       "      <th>4</th>\n",
       "      <td>14</td>\n",
       "      <td>2.0</td>\n",
       "      <td>-0.476697</td>\n",
       "      <td>346.0</td>\n",
       "      <td>1.0</td>\n",
       "      <td>2.0</td>\n",
       "      <td>72.0</td>\n",
       "      <td>100</td>\n",
       "      <td>7.0</td>\n",
       "    </tr>\n",
       "    <tr>\n",
       "      <th>...</th>\n",
       "      <td>...</td>\n",
       "      <td>...</td>\n",
       "      <td>...</td>\n",
       "      <td>...</td>\n",
       "      <td>...</td>\n",
       "      <td>...</td>\n",
       "      <td>...</td>\n",
       "      <td>...</td>\n",
       "      <td>...</td>\n",
       "    </tr>\n",
       "    <tr>\n",
       "      <th>474</th>\n",
       "      <td>25</td>\n",
       "      <td>6.0</td>\n",
       "      <td>-0.330948</td>\n",
       "      <td>528.0</td>\n",
       "      <td>0.0</td>\n",
       "      <td>6.0</td>\n",
       "      <td>140.0</td>\n",
       "      <td>62</td>\n",
       "      <td>0.0</td>\n",
       "    </tr>\n",
       "    <tr>\n",
       "      <th>475</th>\n",
       "      <td>6</td>\n",
       "      <td>12.0</td>\n",
       "      <td>-1.493480</td>\n",
       "      <td>2145.0</td>\n",
       "      <td>0.0</td>\n",
       "      <td>1.0</td>\n",
       "      <td>416.0</td>\n",
       "      <td>45</td>\n",
       "      <td>0.0</td>\n",
       "    </tr>\n",
       "    <tr>\n",
       "      <th>476</th>\n",
       "      <td>24</td>\n",
       "      <td>17.0</td>\n",
       "      <td>-1.466320</td>\n",
       "      <td>551.0</td>\n",
       "      <td>0.0</td>\n",
       "      <td>4.0</td>\n",
       "      <td>146.0</td>\n",
       "      <td>84</td>\n",
       "      <td>0.0</td>\n",
       "    </tr>\n",
       "    <tr>\n",
       "      <th>477</th>\n",
       "      <td>24</td>\n",
       "      <td>6.0</td>\n",
       "      <td>-1.556737</td>\n",
       "      <td>551.0</td>\n",
       "      <td>0.0</td>\n",
       "      <td>0.0</td>\n",
       "      <td>146.0</td>\n",
       "      <td>56</td>\n",
       "      <td>0.0</td>\n",
       "    </tr>\n",
       "    <tr>\n",
       "      <th>478</th>\n",
       "      <td>23</td>\n",
       "      <td>9.0</td>\n",
       "      <td>-0.283168</td>\n",
       "      <td>602.0</td>\n",
       "      <td>0.0</td>\n",
       "      <td>0.0</td>\n",
       "      <td>155.0</td>\n",
       "      <td>90</td>\n",
       "      <td>0.0</td>\n",
       "    </tr>\n",
       "  </tbody>\n",
       "</table>\n",
       "<p>479 rows × 9 columns</p>\n",
       "</div>"
      ],
      "text/plain": [
       "     recency  topic_rank  diversity  authors_mean_rank  authors_mean_hindex  \\\n",
       "0         16         1.0  -0.425436              500.0                  1.0   \n",
       "1          8         7.0  -0.571967              134.0                  1.0   \n",
       "2         15        19.0  -0.859644              235.0                  1.0   \n",
       "3          6         4.0  -1.054999             1124.0                  1.0   \n",
       "4         14         2.0  -0.476697              346.0                  1.0   \n",
       "..       ...         ...        ...                ...                  ...   \n",
       "474       25         6.0  -0.330948              528.0                  0.0   \n",
       "475        6        12.0  -1.493480             2145.0                  0.0   \n",
       "476       24        17.0  -1.466320              551.0                  0.0   \n",
       "477       24         6.0  -1.556737              551.0                  0.0   \n",
       "478       23         9.0  -0.283168              602.0                  0.0   \n",
       "\n",
       "     authors_mean_sociality  journal_rank  title_len     y  \n",
       "0                       6.0         101.0         66   1.0  \n",
       "1                       6.0          24.0         59  32.0  \n",
       "2                       5.0          49.0        169   5.0  \n",
       "3                      10.0         185.0        130   7.0  \n",
       "4                       2.0          72.0        100   7.0  \n",
       "..                      ...           ...        ...   ...  \n",
       "474                     6.0         140.0         62   0.0  \n",
       "475                     1.0         416.0         45   0.0  \n",
       "476                     4.0         146.0         84   0.0  \n",
       "477                     0.0         146.0         56   0.0  \n",
       "478                     0.0         155.0         90   0.0  \n",
       "\n",
       "[479 rows x 9 columns]"
      ]
     },
     "execution_count": 164,
     "metadata": {},
     "output_type": "execute_result"
    }
   ],
   "source": [
    "data"
   ]
  },
  {
   "cell_type": "code",
   "execution_count": 165,
   "id": "identical-contrary",
   "metadata": {},
   "outputs": [
    {
     "data": {
      "text/html": [
       "<div>\n",
       "<style scoped>\n",
       "    .dataframe tbody tr th:only-of-type {\n",
       "        vertical-align: middle;\n",
       "    }\n",
       "\n",
       "    .dataframe tbody tr th {\n",
       "        vertical-align: top;\n",
       "    }\n",
       "\n",
       "    .dataframe thead th {\n",
       "        text-align: right;\n",
       "    }\n",
       "</style>\n",
       "<table border=\"1\" class=\"dataframe\">\n",
       "  <thead>\n",
       "    <tr style=\"text-align: right;\">\n",
       "      <th></th>\n",
       "      <th>recency</th>\n",
       "      <th>topic_rank</th>\n",
       "      <th>diversity</th>\n",
       "      <th>authors_mean_rank</th>\n",
       "      <th>authors_mean_hindex</th>\n",
       "      <th>authors_mean_sociality</th>\n",
       "      <th>journal_rank</th>\n",
       "      <th>title_len</th>\n",
       "      <th>y</th>\n",
       "    </tr>\n",
       "  </thead>\n",
       "  <tbody>\n",
       "    <tr>\n",
       "      <th>0</th>\n",
       "      <td>0.55</td>\n",
       "      <td>0.000000</td>\n",
       "      <td>0.874534</td>\n",
       "      <td>0.214041</td>\n",
       "      <td>0.888889</td>\n",
       "      <td>0.400000</td>\n",
       "      <td>0.231651</td>\n",
       "      <td>0.190114</td>\n",
       "      <td>1.0</td>\n",
       "    </tr>\n",
       "    <tr>\n",
       "      <th>1</th>\n",
       "      <td>0.15</td>\n",
       "      <td>0.315789</td>\n",
       "      <td>0.824677</td>\n",
       "      <td>0.057363</td>\n",
       "      <td>0.888889</td>\n",
       "      <td>0.400000</td>\n",
       "      <td>0.055046</td>\n",
       "      <td>0.163498</td>\n",
       "      <td>32.0</td>\n",
       "    </tr>\n",
       "    <tr>\n",
       "      <th>2</th>\n",
       "      <td>0.50</td>\n",
       "      <td>0.947368</td>\n",
       "      <td>0.726796</td>\n",
       "      <td>0.100599</td>\n",
       "      <td>0.888889</td>\n",
       "      <td>0.333333</td>\n",
       "      <td>0.112385</td>\n",
       "      <td>0.581749</td>\n",
       "      <td>5.0</td>\n",
       "    </tr>\n",
       "    <tr>\n",
       "      <th>3</th>\n",
       "      <td>0.05</td>\n",
       "      <td>0.157895</td>\n",
       "      <td>0.660327</td>\n",
       "      <td>0.481164</td>\n",
       "      <td>0.888889</td>\n",
       "      <td>0.666667</td>\n",
       "      <td>0.424312</td>\n",
       "      <td>0.433460</td>\n",
       "      <td>7.0</td>\n",
       "    </tr>\n",
       "    <tr>\n",
       "      <th>4</th>\n",
       "      <td>0.45</td>\n",
       "      <td>0.052632</td>\n",
       "      <td>0.857092</td>\n",
       "      <td>0.148116</td>\n",
       "      <td>0.888889</td>\n",
       "      <td>0.133333</td>\n",
       "      <td>0.165138</td>\n",
       "      <td>0.319392</td>\n",
       "      <td>7.0</td>\n",
       "    </tr>\n",
       "    <tr>\n",
       "      <th>...</th>\n",
       "      <td>...</td>\n",
       "      <td>...</td>\n",
       "      <td>...</td>\n",
       "      <td>...</td>\n",
       "      <td>...</td>\n",
       "      <td>...</td>\n",
       "      <td>...</td>\n",
       "      <td>...</td>\n",
       "      <td>...</td>\n",
       "    </tr>\n",
       "    <tr>\n",
       "      <th>474</th>\n",
       "      <td>1.00</td>\n",
       "      <td>0.263158</td>\n",
       "      <td>0.906683</td>\n",
       "      <td>0.226027</td>\n",
       "      <td>0.000000</td>\n",
       "      <td>0.400000</td>\n",
       "      <td>0.321101</td>\n",
       "      <td>0.174905</td>\n",
       "      <td>0.0</td>\n",
       "    </tr>\n",
       "    <tr>\n",
       "      <th>475</th>\n",
       "      <td>0.05</td>\n",
       "      <td>0.578947</td>\n",
       "      <td>0.511136</td>\n",
       "      <td>0.918236</td>\n",
       "      <td>0.000000</td>\n",
       "      <td>0.066667</td>\n",
       "      <td>0.954128</td>\n",
       "      <td>0.110266</td>\n",
       "      <td>0.0</td>\n",
       "    </tr>\n",
       "    <tr>\n",
       "      <th>476</th>\n",
       "      <td>0.95</td>\n",
       "      <td>0.842105</td>\n",
       "      <td>0.520377</td>\n",
       "      <td>0.235873</td>\n",
       "      <td>0.000000</td>\n",
       "      <td>0.266667</td>\n",
       "      <td>0.334862</td>\n",
       "      <td>0.258555</td>\n",
       "      <td>0.0</td>\n",
       "    </tr>\n",
       "    <tr>\n",
       "      <th>477</th>\n",
       "      <td>0.95</td>\n",
       "      <td>0.263158</td>\n",
       "      <td>0.489613</td>\n",
       "      <td>0.235873</td>\n",
       "      <td>0.000000</td>\n",
       "      <td>0.000000</td>\n",
       "      <td>0.334862</td>\n",
       "      <td>0.152091</td>\n",
       "      <td>0.0</td>\n",
       "    </tr>\n",
       "    <tr>\n",
       "      <th>478</th>\n",
       "      <td>0.90</td>\n",
       "      <td>0.421053</td>\n",
       "      <td>0.922940</td>\n",
       "      <td>0.257705</td>\n",
       "      <td>0.000000</td>\n",
       "      <td>0.000000</td>\n",
       "      <td>0.355505</td>\n",
       "      <td>0.281369</td>\n",
       "      <td>0.0</td>\n",
       "    </tr>\n",
       "  </tbody>\n",
       "</table>\n",
       "<p>479 rows × 9 columns</p>\n",
       "</div>"
      ],
      "text/plain": [
       "     recency  topic_rank  diversity  authors_mean_rank  authors_mean_hindex  \\\n",
       "0       0.55    0.000000   0.874534           0.214041             0.888889   \n",
       "1       0.15    0.315789   0.824677           0.057363             0.888889   \n",
       "2       0.50    0.947368   0.726796           0.100599             0.888889   \n",
       "3       0.05    0.157895   0.660327           0.481164             0.888889   \n",
       "4       0.45    0.052632   0.857092           0.148116             0.888889   \n",
       "..       ...         ...        ...                ...                  ...   \n",
       "474     1.00    0.263158   0.906683           0.226027             0.000000   \n",
       "475     0.05    0.578947   0.511136           0.918236             0.000000   \n",
       "476     0.95    0.842105   0.520377           0.235873             0.000000   \n",
       "477     0.95    0.263158   0.489613           0.235873             0.000000   \n",
       "478     0.90    0.421053   0.922940           0.257705             0.000000   \n",
       "\n",
       "     authors_mean_sociality  journal_rank  title_len     y  \n",
       "0                  0.400000      0.231651   0.190114   1.0  \n",
       "1                  0.400000      0.055046   0.163498  32.0  \n",
       "2                  0.333333      0.112385   0.581749   5.0  \n",
       "3                  0.666667      0.424312   0.433460   7.0  \n",
       "4                  0.133333      0.165138   0.319392   7.0  \n",
       "..                      ...           ...        ...   ...  \n",
       "474                0.400000      0.321101   0.174905   0.0  \n",
       "475                0.066667      0.954128   0.110266   0.0  \n",
       "476                0.266667      0.334862   0.258555   0.0  \n",
       "477                0.000000      0.334862   0.152091   0.0  \n",
       "478                0.000000      0.355505   0.281369   0.0  \n",
       "\n",
       "[479 rows x 9 columns]"
      ]
     },
     "execution_count": 165,
     "metadata": {},
     "output_type": "execute_result"
    }
   ],
   "source": [
    "from sklearn import preprocessing\n",
    "\n",
    "scaler = preprocessing.MinMaxScaler()\n",
    "\n",
    "names = data.iloc[:, :-1].columns\n",
    "d = scaler.fit_transform(data.iloc[:, :-1])\n",
    "\n",
    "data = pd.DataFrame(d, columns=names)\n",
    "data[\"y\"] = y\n",
    "data"
   ]
  },
  {
   "cell_type": "code",
   "execution_count": null,
   "id": "proper-field",
   "metadata": {},
   "outputs": [],
   "source": []
  },
  {
   "cell_type": "code",
   "execution_count": null,
   "id": "passive-debate",
   "metadata": {},
   "outputs": [],
   "source": []
  },
  {
   "cell_type": "code",
   "execution_count": 166,
   "id": "aggressive-screen",
   "metadata": {},
   "outputs": [],
   "source": [
    "X = data.iloc[:, :-1] # Разбиваем данные на X и y\n",
    "y = data.iloc[:, -1]\n",
    "X_train, X_test, y_train, y_test = train_test_split(X, y, test_size=0.2, random_state=42)"
   ]
  },
  {
   "cell_type": "code",
   "execution_count": 167,
   "id": "thermal-girlfriend",
   "metadata": {},
   "outputs": [
    {
     "data": {
      "text/plain": [
       "0.33637370050731275"
      ]
     },
     "execution_count": 167,
     "metadata": {},
     "output_type": "execute_result"
    }
   ],
   "source": [
    "clf = linear_model.Lasso(alpha=0.1) # L1-регуляризация отвечает за отбор признаков, так как наказывает модель за большие веса\n",
    "clf.fit(X_train, y_train)\n",
    "y_pred = clf.predict(X_test)\n",
    "r2_score(y_test, y_pred)"
   ]
  },
  {
   "cell_type": "code",
   "execution_count": 168,
   "id": "annual-wrong",
   "metadata": {},
   "outputs": [],
   "source": [
    "# Как мы видим, отбросив некоторые ненужные признаки и нормализовав данные мы увеличили r2_score"
   ]
  },
  {
   "cell_type": "code",
   "execution_count": 169,
   "id": "incorporate-quality",
   "metadata": {},
   "outputs": [],
   "source": [
    "# После отбора признаков, фиче-инжиниринга, и теста линейных моделей (Linear Regression с L1 и L2 регуляризацией), продолжаем\n",
    "# работать с более продвинутыми моделями - с ансаблями (дерево решений показало не высокий результат, а градиентный бустинг\n",
    "# более плохой, чем случайный лес)"
   ]
  },
  {
   "cell_type": "code",
   "execution_count": 173,
   "id": "commercial-dealing",
   "metadata": {},
   "outputs": [
    {
     "data": {
      "text/plain": [
       "0.4615521144885272"
      ]
     },
     "execution_count": 173,
     "metadata": {},
     "output_type": "execute_result"
    }
   ],
   "source": [
    "from sklearn.tree import DecisionTreeClassifier\n",
    "from sklearn.ensemble import RandomForestRegressor\n",
    "\n",
    "clf = RandomForestRegressor()\n",
    "clf.fit(X_train, y_train)\n",
    "y_pred = clf.predict(X_test)\n",
    "r2_score(y_test, y_pred)"
   ]
  },
  {
   "cell_type": "code",
   "execution_count": 174,
   "id": "whole-vintage",
   "metadata": {},
   "outputs": [],
   "source": [
    "# Как мы видим - значение r2 0.46 нам не подходит, стоит перебрать правильные гипер-параметры для задачи"
   ]
  },
  {
   "cell_type": "code",
   "execution_count": 175,
   "id": "together-dress",
   "metadata": {},
   "outputs": [
    {
     "name": "stdout",
     "output_type": "stream",
     "text": [
      "0.47545669339103913\n"
     ]
    }
   ],
   "source": [
    "from sklearn.model_selection import cross_val_score\n",
    "print(cross_val_score(clf, X, y, cv=5).mean())"
   ]
  },
  {
   "cell_type": "code",
   "execution_count": 176,
   "id": "swedish-butterfly",
   "metadata": {},
   "outputs": [],
   "source": [
    "# Импортируем из sklearn GridSearchCV, который поможет перебрать нужные для нас параметры"
   ]
  },
  {
   "cell_type": "code",
   "execution_count": 177,
   "id": "favorite-detection",
   "metadata": {},
   "outputs": [
    {
     "data": {
      "text/plain": [
       "{'criterion': 'mae', 'max_depth': 5, 'n_estimators': 20}"
      ]
     },
     "execution_count": 177,
     "metadata": {},
     "output_type": "execute_result"
    }
   ],
   "source": [
    "from sklearn.model_selection import GridSearchCV\n",
    "\n",
    "param = {\n",
    "    \"n_estimators\" : list(range(2, 50)),\n",
    "    \"max_depth\" : list(range(3, 8)),\n",
    "    \"criterion\" : ['mae', 'mse']\n",
    "}\n",
    "\n",
    "grid = GridSearchCV(RandomForestRegressor(), param_grid=param, cv=5)\n",
    "grid.fit(X_train, y_train)\n",
    "grid.best_params_"
   ]
  },
  {
   "cell_type": "code",
   "execution_count": 230,
   "id": "going-abortion",
   "metadata": {},
   "outputs": [
    {
     "data": {
      "text/plain": [
       "0.48882448033966575"
      ]
     },
     "execution_count": 230,
     "metadata": {},
     "output_type": "execute_result"
    }
   ],
   "source": [
    "clf = RandomForestRegressor(max_depth = 7, n_estimators = 38, criterion = 'mae')\n",
    "clf.fit(X_train, y_train)\n",
    "y_pred = clf.predict(X_test)\n",
    "r2_score(y_test, y_pred)"
   ]
  },
  {
   "cell_type": "code",
   "execution_count": 231,
   "id": "pointed-nirvana",
   "metadata": {},
   "outputs": [
    {
     "name": "stdout",
     "output_type": "stream",
     "text": [
      "0.5905007295964804\n"
     ]
    }
   ],
   "source": [
    "print(cross_val_score(clf, X, y, cv=5).mean())"
   ]
  },
  {
   "cell_type": "code",
   "execution_count": 240,
   "id": "broken-anatomy",
   "metadata": {},
   "outputs": [
    {
     "name": "stderr",
     "output_type": "stream",
     "text": [
      "6it [00:01,  5.15it/s]\n"
     ]
    }
   ],
   "source": [
    "from sklearn.model_selection import KFold\n",
    "from tqdm import tqdm\n",
    "cv = KFold(n_splits=6, random_state=42, shuffle=True)\n",
    "\n",
    "# Сделаем кросс-валидацию через KFold для r2_score\n",
    "results = []\n",
    "for train_index, test_index in tqdm(cv.split(y)):\n",
    "    X_train, X_test = X.iloc[train_index.tolist(), :], X.iloc[test_index.tolist(), :]\n",
    "    y_train, y_test = y[train_index], y[test_index]\n",
    "    clf.fit(X_train, y_train)\n",
    "    y_pred = clf.predict(X_test)\n",
    "    \n",
    "    results.append(r2_score(y_test, y_pred))"
   ]
  },
  {
   "cell_type": "code",
   "execution_count": 241,
   "id": "finnish-closure",
   "metadata": {},
   "outputs": [
    {
     "data": {
      "text/plain": [
       "0.7292392581900023"
      ]
     },
     "execution_count": 241,
     "metadata": {},
     "output_type": "execute_result"
    }
   ],
   "source": [
    "np.array(results).mean()"
   ]
  },
  {
   "cell_type": "code",
   "execution_count": null,
   "id": "adjacent-transition",
   "metadata": {},
   "outputs": [],
   "source": [
    "# Как мы можем понять, на кросс-валидации получаем средний результат r2 = +- 0.7, что является довольно хорошим показателем"
   ]
  },
  {
   "cell_type": "code",
   "execution_count": null,
   "id": "lucky-edinburgh",
   "metadata": {},
   "outputs": [],
   "source": []
  },
  {
   "cell_type": "code",
   "execution_count": null,
   "id": "functioning-external",
   "metadata": {},
   "outputs": [],
   "source": []
  }
 ],
 "metadata": {
  "kernelspec": {
   "display_name": "Python 3",
   "language": "python",
   "name": "python3"
  },
  "language_info": {
   "codemirror_mode": {
    "name": "ipython",
    "version": 3
   },
   "file_extension": ".py",
   "mimetype": "text/x-python",
   "name": "python",
   "nbconvert_exporter": "python",
   "pygments_lexer": "ipython3",
   "version": "3.7.4"
  }
 },
 "nbformat": 4,
 "nbformat_minor": 5
}
